{
 "cells": [
  {
   "cell_type": "markdown",
   "metadata": {},
   "source": [
    "## ACTIVITY 1: Loops and Conditional Statements\n",
    "\n",
    "In last week's homework, you were asked to use `range()` as a way to run a `for` loop over two lists at once. In today's lecture, we went through yet another way to loop over multiple lists using `zip()`.\n",
    "\n",
    "It may seem redundant to practice multiple ways of iterating over lists with a `for` loop, but as you'll see later in the course, it's not. `zip()` and `range()` are two critical, commonly used Python functions, and it's worth your while to know how to use both.\n",
    "\n",
    "## Problem 1: Reporter gene data version 3\n",
    "\n",
    "In this problem, we return yet again to the red/green reporter gene experiment we saw in the last lecture and in the homework. The problem is the same one you were asked to complete in the homework, but this time you should solve it with `zip()`.\n",
    "\n",
    "Recall that your task is to write a `for` loop that iterates over both `red` and `green` data at the same time, and divide the red value by its corresponding green value. The result should be appended to a new list called `norm_data`.\n",
    "\n",
    "In the cell below, do the following:\n",
    "\n",
    "1. Create an empty list called `norm_data`, to hold the normalized values.\n",
    "\n",
    "2. Write a `for` loop using `zip()` to iterate over both `red` and `green`. \n",
    "\n",
    "3. In the loop block (indented lines), divide the red value by the green value and `.append()` the result to the list `norm_data`.\n"
   ]
  },
  {
   "cell_type": "code",
   "execution_count": 1,
   "metadata": {},
   "outputs": [
    {
     "data": {
      "text/plain": [
       "[4.6, 13.181818181818182, 33.833333333333336, 26.11111111111111, 44.25, 114.0]"
      ]
     },
     "execution_count": 1,
     "metadata": {},
     "output_type": "execute_result"
    }
   ],
   "source": [
    "red = [23, 145, 203, 235, 354, 456]\n",
    "green = [5, 11, 6, 9, 8, 4]\n",
    "norm_data = []\n",
    "\n",
    "# Write your code below. Use print() to display the result.\n",
    "for r_gene, g_gene in zip(red, green):\n",
    "    norm_data.append(r_gene / g_gene)\n",
    "\n",
    "norm_data"
   ]
  },
  {
   "cell_type": "code",
   "execution_count": 2,
   "metadata": {},
   "outputs": [],
   "source": [
    "# Run this cell to test your answer\n",
    "assert len(norm_data) == len(red)\n",
    "assert norm_data[2] < 33.834 and norm_data[0] == 4.6"
   ]
  },
  {
   "cell_type": "markdown",
   "metadata": {},
   "source": [
    "## Problem 1a: Convert from string to numeric data\n",
    "Here is a quick problem whose relevance will become more apparent in the next lecture:\n",
    "\n",
    "To normalize the reporter data, you are dividing *numbers*. But (as you'll see next week), numerical data somtimes arrives as a Python string. Before doing any math with the data, you need to convert strings to a numeric data type, either **integers** or **floats** (floating point numbers... anything with a decimal.\n",
    "\n",
    "To convert one data type to another, there are handy Python functions:\n",
    "\n",
    "```python\n",
    "datum = '23' # string data type\n",
    "datum = int(datum) # convert the string to integer\n",
    "datum = str(datum) # convert back to a string\n",
    "datum = float(datum) # convert to float\n",
    "```\n",
    "\n",
    "Two points to keep in mind:\n",
    "\n",
    "1) Don't worry about converting integers to floats. If division of two integers produces a non-integer answer, Python will automatically make the answer a float.\n",
    "\n",
    "2) In the code above I changed the type of the original variable `datum` by assigning the converted value back to the original variable name. Often we *won't* change the original variable; it's usually better to keep the original data unchanged, in case your code returns to it later.\n",
    "\n",
    "In the cell below, our reporter data is in string format. Rewrite your code above to convert strings to integers before dividing red by green."
   ]
  },
  {
   "cell_type": "code",
   "execution_count": 3,
   "metadata": {},
   "outputs": [
    {
     "data": {
      "text/plain": [
       "[4.6, 13.181818181818182, 33.833333333333336, 26.11111111111111, 44.25, 114.0]"
      ]
     },
     "execution_count": 3,
     "metadata": {},
     "output_type": "execute_result"
    }
   ],
   "source": [
    "red = ['23', '145', '203', '235', '354', '456']\n",
    "green = ['5', '11', '6', '9', '8', '4']\n",
    "norm_data = []\n",
    "\n",
    "# Write your code below. Use print() to display the result.\n",
    "for r_gene, g_gene in zip(red, green):\n",
    "    r_gene_int = int(r_gene)\n",
    "    g_gene_int = int(g_gene)\n",
    "    norm_data.append(r_gene_int / g_gene_int)\n",
    "\n",
    "norm_data"
   ]
  },
  {
   "cell_type": "markdown",
   "metadata": {},
   "source": [
    "## Problem 2: `zip()` and unequal lists\n",
    "\n",
    "The code you've written to normalize reporter gene data assumes that both `red` and `green` lists are of equal length. What if they aren't? In this case, if the lists are unequal, you'd like the code to return an error. So which method of looping, `range()` or `zip()` will give you an error if the lists are unequal?\n",
    "\n",
    "Try both methods in the cells below to see what happens when you iterate over two lists of unqeual length. You can use the code you wrote as a starting point."
   ]
  },
  {
   "cell_type": "code",
   "execution_count": 4,
   "metadata": {},
   "outputs": [
    {
     "name": "stdout",
     "output_type": "stream",
     "text": [
      "6\n",
      "5\n",
      "5\n"
     ]
    },
    {
     "data": {
      "text/plain": [
       "[4.6, 13.181818181818182, 33.833333333333336, 26.11111111111111, 44.25]"
      ]
     },
     "execution_count": 4,
     "metadata": {},
     "output_type": "execute_result"
    }
   ],
   "source": [
    "red = [23, 145, 203, 235, 354, 456]\n",
    "green = [5, 11, 6, 9, 8] # MISSING DATA - shorter list\n",
    "norm_data = []\n",
    "\n",
    "for r_gene, g_gene in zip(red, green):\n",
    "    norm_data.append(r_gene / g_gene)\n",
    "\n",
    "print(len(red))\n",
    "print(len(green))\n",
    "print(len(norm_data))\n",
    "\n",
    "norm_data"
   ]
  },
  {
   "cell_type": "code",
   "execution_count": 5,
   "metadata": {},
   "outputs": [
    {
     "ename": "IndexError",
     "evalue": "list index out of range",
     "output_type": "error",
     "traceback": [
      "\u001b[0;31m---------------------------------------------------------------------------\u001b[0m",
      "\u001b[0;31mIndexError\u001b[0m                                Traceback (most recent call last)",
      "Cell \u001b[0;32mIn[5], line 11\u001b[0m\n\u001b[1;32m      9\u001b[0m \u001b[38;5;28;01mfor\u001b[39;00m i \u001b[38;5;129;01min\u001b[39;00m \u001b[38;5;28mrange\u001b[39m(\u001b[38;5;28mlen\u001b[39m(red)):\n\u001b[1;32m     10\u001b[0m     r_gene \u001b[38;5;241m=\u001b[39m red[i]\n\u001b[0;32m---> 11\u001b[0m     g_gene \u001b[38;5;241m=\u001b[39m \u001b[43mgreen\u001b[49m\u001b[43m[\u001b[49m\u001b[43mi\u001b[49m\u001b[43m]\u001b[49m\n\u001b[1;32m     12\u001b[0m     norm_data\u001b[38;5;241m.\u001b[39mappend(r_gene \u001b[38;5;241m/\u001b[39m g_gene)\n\u001b[1;32m     14\u001b[0m norm_data\n",
      "\u001b[0;31mIndexError\u001b[0m: list index out of range"
     ]
    }
   ],
   "source": [
    "# Use range() to loop over these lists. \n",
    "# Use range(len(red)) in your for statement.\n",
    "\n",
    "red = [23, 145, 203, 235, 354, 456]\n",
    "green = [5, 11, 6, 9, 8] # MISSING DATA - shorter list\n",
    "norm_data = []\n",
    "\n",
    "# Use range() to loop over these lists (do you get an error?).\n",
    "for i in range(len(red)):\n",
    "    r_gene = red[i]\n",
    "    g_gene = green[i]\n",
    "    norm_data.append(r_gene / g_gene)\n",
    "\n",
    "norm_data\n",
    "\n",
    "# This error is expected"
   ]
  },
  {
   "cell_type": "markdown",
   "metadata": {},
   "source": [
    "How does `zip()` handle two lists of unequal lengths? What happens when you use `range()` to generate list indices beyond the length of the list?\n",
    "\n",
    "The bigger lesson here is that our reporter data normalization code should first test whether the lengths of the two lists are equal before running the `for` loop. You could write something like this:\n",
    "\n",
    "```python\n",
    "if len(red) == len(green):\n",
    "    # run the for loop here\n",
    "else:\n",
    "    print('Unequal data in red and green channels!')\n",
    "```\n",
    "\n",
    "We'll focus more on such tests when we begin writing Python functions."
   ]
  },
  {
   "cell_type": "markdown",
   "metadata": {},
   "source": [
    "## Problem 3: Use `if` to avoid dividing by 0\n",
    "\n",
    "Zeros in our control data are another potential source of error in our reporter gene normalization code. If we got a blank measurement for one sample in the green channel, then our code above won't work – you can't divide red by green if green is zero.\n",
    "\n",
    "So let's make our normalization code a little more sophisticated, by adding a conditional statement to check for zero values in the green channel.\n",
    "\n",
    "We want a `for` loop that recognizes when green is zero and then executes an alternate instruction.\n",
    "\n",
    "In the cell below, I've edited `green` to include a 0. Write a `for` loop to normalize red by green, as before. But change the inside the block of the `for` loop, using `if` and `else`, to do the following:\n",
    "\n",
    " *If* the value of green is greater than zero, normalize green by red and append the result to `normalized`.\n",
    " *Else*, print: \"Green value is zero.\" (And do nothing else - we skip that sample.)"
   ]
  },
  {
   "cell_type": "code",
   "execution_count": 6,
   "metadata": {},
   "outputs": [
    {
     "data": {
      "text/plain": [
       "[4.6, 13.181818181818182, 33.833333333333336, 0, 44.25, 114.0]"
      ]
     },
     "execution_count": 6,
     "metadata": {},
     "output_type": "execute_result"
    }
   ],
   "source": [
    "red = [23, 145, 203, 235, 354, 456]\n",
    "green = [5, 11, 6, 0, 8, 4]\n",
    "norm_data = [] # clear the list - we'll reuse this variable name\n",
    "\n",
    "# Write a loop to normalize the data, checking for divide by zero errors.\n",
    "for r_gene, g_gene in zip(red, green):\n",
    "    if g_gene == 0:\n",
    "        norm_data.append(0)\n",
    "    else:\n",
    "        norm_data.append(r_gene / g_gene)\n",
    "\n",
    "norm_data"
   ]
  },
  {
   "cell_type": "markdown",
   "metadata": {},
   "source": [
    "## Problem 4: Calculate GC content of a sequence\n",
    "\n",
    "This problem is a slightly more challenging application of the basic concepts of `for` loops and `if` statements. As we'll discuss more in the second half of today's lecture, a string in Python is somewhat similar to a list: A string is an ordered collection of text characters, just like a list is an ordered collection of items (of any data type).\n",
    "\n",
    "You can iterate over a string with a `for` loop just as you iterate over a list. In the cell below, do the following: \n",
    "\n",
    "1) Initialize a variable `gc_count` by setting it equal to zero.\n",
    "\n",
    "2) Iterate over each base of the DNA sequence below using `for`.\n",
    "\n",
    "3) In the block of the loop, determine whether the base is a G or C. If it is, increment `gc_count` by one.\n",
    "\n",
    "4) After the `for` loop finishes, calculate fraction GC by dividing `gc_count` by the total length of the DNA sequence. (What function gives you the length of a string?) Assign the answer to the variable `gc_frac`.\n",
    "\n",
    "\n",
    "HINT 1: The syntax to loop over a string will be the same as a `for` loop over just one list, as we practiced last week. Just replace the list with a string in the `for` expression.\n",
    "\n",
    "HINT 2: Here is how to put two conditions into a single `if` expression by using `or`:\n",
    "\n",
    "```python\n",
    "if my_variable == 'value1' or my_variable == 'value2':\n",
    "```"
   ]
  },
  {
   "cell_type": "code",
   "execution_count": 7,
   "metadata": {},
   "outputs": [
    {
     "data": {
      "text/plain": [
       "0.5319148936170213"
      ]
     },
     "execution_count": 7,
     "metadata": {},
     "output_type": "execute_result"
    }
   ],
   "source": [
    "dna = 'GTGCATGTTTGTCGGATGAGCCTAAACTAGGGAGGTCAGCCAGGGTT'\n",
    "gc_count = 0\n",
    "gc_frac = 0\n",
    "\n",
    "# Write a loop to count the number of G and C characters in the DNA sequence.\n",
    "# Find GC content by dividing the number of G and C characters by the total number of characters.\n",
    "for base in dna:\n",
    "    if base == 'G' or base == 'C':\n",
    "        gc_count += 1\n",
    "\n",
    "gc_frac = gc_count / len(dna)\n",
    "\n",
    "gc_frac"
   ]
  },
  {
   "cell_type": "code",
   "execution_count": 8,
   "metadata": {},
   "outputs": [],
   "source": [
    "# Run this cell to check your answer\n",
    "assert gc_count == 25\n",
    "assert gc_frac > 0.53 and gc_frac <0.532"
   ]
  },
  {
   "cell_type": "markdown",
   "metadata": {},
   "source": [
    "# END Activity 1.\n",
    "If you're done early, take a break."
   ]
  },
  {
   "cell_type": "markdown",
   "metadata": {},
   "source": [
    "# ACTIVITY 2: Building and using Dictionaries\n",
    "\n",
    "The problems in this activity will (mostly) focus on creating and manipulating python dictionaries.\n",
    "\n",
    "## Problem 1: Gene Ontology Dictionary\n",
    "This problem is a simplified version of a type of problem that will come up frequently in this course, especially when we do enrichment calculations with genomic data.\n",
    "\n",
    "Imagine you performed some experiment in which you measured gene expression in a sample before and after some perturbation. You have obtained gene ontology annotations for the genes whose expression increased after the perturbation. Your task is to count the number of times each gene ontology term shows up in your results. To keep track of the counts, you will create a dictionary in which the *keys* are gene ontology terms and the *values* are number of times the term occurs in the data.\n",
    "\n",
    "In the cell below is a list of gene ontology terms for each gene whose expression increased. You're going to loop over the list and 1) add new terms to the dictionary as you encounter them, *or* 2) increment the count for entries that already exist. \n",
    "\n",
    "For this, we can use the keywords `in` and `not in` to check if an entry is already in the dictionary. Below is a simple example of code that checks to see if a dictionary entry exists. If the entry *doesn't* exist, one is created and given an initial value of 1. If the entry already exists, the code increments the count by 1:\n",
    "\n",
    "```python\n",
    "### Counting coin tosses\n",
    "\n",
    "coin_tosses = {} # empty dictionary\n",
    "toss = 'heads' # the data\n",
    "\n",
    "if toss not in coin_tosses:\n",
    "    coin_tosses[toss] = 1 # create a new entry and set value to 1\n",
    "else:\n",
    "    coin_tosses[toss] += 1 # increment existing entry\n",
    "```\n",
    "\n",
    "Below, apply the logic of the coin toss example to write code to count occurrences of gene ontology terms. Write the code to do the following:\n",
    "\n",
    "1. Create a empty dictionary called `go_counts`.\n",
    "2. Use a `for` loop to iterate over the list `go_annotations`, which we created above.\n",
    "3. In the block of the `for` loop, add new GO terms to the dictionary as they come up, and increment the count of terms that are already in the dictionary.\n",
    "\n",
    "Use `print()` to see the results.\n",
    "\n",
    "(If you're not familiar with gene ontology analysis, you can find an introduction here: http://geneontology.org.)"
   ]
  },
  {
   "cell_type": "code",
   "execution_count": 9,
   "metadata": {},
   "outputs": [
    {
     "data": {
      "text/plain": [
       "{'neurogenesis': 4,\n",
       " 'eye development': 1,\n",
       " 'cell differentiation': 2,\n",
       " 'detoxification': 2,\n",
       " 'exocytosis': 1,\n",
       " 'lipid transport': 1,\n",
       " 'signaling': 1}"
      ]
     },
     "execution_count": 9,
     "metadata": {},
     "output_type": "execute_result"
    }
   ],
   "source": [
    "# Some simplified GO annotations\n",
    "go_annotations = ['neurogenesis', 'eye development', 'neurogenesis',  'cell differentiation','detoxification',\\\n",
    "                  'cell differentiation', 'neurogenesis', 'detoxification', 'exocytosis', 'lipid transport',\\\n",
    "                 'signaling', 'neurogenesis']\n",
    "\n",
    "go_counts = {}\n",
    "\n",
    "# Write your code below. Print() your dictionary to see how it worked.\n",
    "for go in go_annotations:\n",
    "    if go not in go_counts:\n",
    "        go_counts[go] = 1\n",
    "    else:\n",
    "        go_counts[go] += 1\n",
    "\n",
    "go_counts"
   ]
  },
  {
   "cell_type": "code",
   "execution_count": 10,
   "metadata": {},
   "outputs": [],
   "source": [
    "# Check your answer\n",
    "assert go_counts['neurogenesis'] == 4\n",
    "assert go_counts['eye development'] == 1\n",
    "assert len(go_counts) == 7"
   ]
  },
  {
   "cell_type": "markdown",
   "metadata": {},
   "source": [
    "## Problem 2: Restriction enzymes\n",
    "\n",
    "Your goal in this problem is to identify which restriction enzymes cut a DNA sequence. You'll write code to do the following:\n",
    "\n",
    "1) Create a dictionary of restriction enzyme specificities in which the sequence is the *key* and the enzyme name is the *value*.\n",
    "\n",
    "2) Run a `for` loop over a DNA sequence, using `range()` to take 6 bp windows. Check if those 6 bp sequences match a dictionary entry of enzyme specificities. If yes, append the name of the restriction enzyme to a list.\n",
    "\n",
    "It sounds like a simple problem, but the code will bring together most of the concepts we've learned so far. We'll solve this in two steps.\n",
    "\n",
    "### 2A: Build the dictionary by looping over two lists.\n",
    "In the cell below are two lists, `enzyme_names` and `specificities`. Matching names and specificities are in the corresponding position in each list.\n",
    "\n",
    "Build a dictionary called `enzymes` by using `for` with `zip()` to loop over the two lists. Add dictionary entries as you go, with the *specificity as the key and the enzyme name as the value.*\n",
    "\n",
    "HINT: Define your empty dictionary *before* the `for` loop. (Why is this important?)"
   ]
  },
  {
   "cell_type": "code",
   "execution_count": 11,
   "metadata": {},
   "outputs": [
    {
     "data": {
      "text/plain": [
       "{'GAATTC': 'EcoRI',\n",
       " 'GGATCC': 'BamHI',\n",
       " 'GCATGC': 'SphI',\n",
       " 'CTCGAG': 'XhoI',\n",
       " 'TCTAGA': 'XbaI',\n",
       " 'CCGCGG': 'SacI',\n",
       " 'AAGCTT': 'HindIII'}"
      ]
     },
     "execution_count": 11,
     "metadata": {},
     "output_type": "execute_result"
    }
   ],
   "source": [
    "enzyme_names = ['EcoRI', 'BamHI', 'SphI','XhoI', 'XbaI', 'SacI', 'HindIII']\n",
    "specificities = ['GAATTC', 'GGATCC', 'GCATGC', 'CTCGAG', 'TCTAGA', 'CCGCGG','AAGCTT']\n",
    "\n",
    "enzyme_dictionary = {}\n",
    "\n",
    "# Write your code below\n",
    "for enzyme, specificity in zip(enzyme_names, specificities):\n",
    "    enzyme_dictionary[specificity] = enzyme\n",
    "\n",
    "enzyme_dictionary"
   ]
  },
  {
   "cell_type": "markdown",
   "metadata": {},
   "source": [
    "### 2B Loop over a DNA sequence & take 6 bp slices\n",
    "\n",
    "In the cell below, you're given a DNA sequence. Write code to do the following:\n",
    "\n",
    "1) Create a blank list called `cutters` to hold the list of enzymes that cut the sequence.\n",
    "\n",
    "2) Iterate over the DNA sequence, 1 bp at a time using `range()`.\n",
    "\n",
    "3) In the block of the loop: \n",
    "        1. Take a 6 bp slice of the DNA sequence\n",
    "        2. Check whether that 6 bp sequence is a key in the dictionary\n",
    "        3. If it is, append the enzyme name to `cutters`.\n",
    "        \n",
    "#### Hints\n",
    "To loop over a string (such as a DNA sequence), we use two tools: slices and `range()`. You've learned how to use `range()` in a for loop. Let's look at slices:\n",
    "\n",
    "**Grabbing three bases with a slice**\n",
    "\n",
    "Strings, like lists, can be accessed with indexing and slices, like this:\n",
    "\n",
    "```python\n",
    "dna = 'ATGAGCAGGTCAGTGACTGAT' # a DNA sequence\n",
    "dna[0] # the first base\n",
    "dna[0:3] # a slice that grabs the first three bases\n",
    "dna[i:i+3] # a slice that grabs three bases beginning at index i\n",
    "```"
   ]
  },
  {
   "cell_type": "code",
   "execution_count": 12,
   "metadata": {},
   "outputs": [
    {
     "data": {
      "text/plain": [
       "['BamHI', 'XbaI', 'HindIII', 'HindIII']"
      ]
     },
     "execution_count": 12,
     "metadata": {},
     "output_type": "execute_result"
    }
   ],
   "source": [
    "# Check this sequence for cut sites\n",
    "dna_seq = 'TAGGCTGGATCCTCGATTCGATGGGGCCCATTAATCTAGAGATCGGATCGGACTGAAAGCTCTTTTGATTCGAAGCTTGCGATGCGAAGCTTGCTAGCTA'\n",
    "cutters = []\n",
    "\n",
    "# Write your code below\n",
    "for index in range(len(dna_seq)):\n",
    "    # get the next six bases using slicing\n",
    "    next_six_bases = dna_seq[index:index+6]\n",
    "\n",
    "    # check if the next six bases are in the dictionary and if so, add the enzyme name to the cutters list\n",
    "    if next_six_bases in enzyme_dictionary:\n",
    "        enzyme_name = enzyme_dictionary[next_six_bases]\n",
    "        cutters.append(enzyme_name)\n",
    "\n",
    "cutters"
   ]
  },
  {
   "cell_type": "code",
   "execution_count": 13,
   "metadata": {},
   "outputs": [],
   "source": [
    "# Check your answers\n",
    "assert len(cutters) == 4\n",
    "assert cutters.count('HindIII') == 2\n",
    "assert 'XbaI' in cutters"
   ]
  },
  {
   "cell_type": "markdown",
   "metadata": {},
   "source": [
    "If you wanted to remove all duplicate elements from `cutters`, you could convert it to a *set*. Create a blank cell above and try `set(cutters)`. What happens?\n",
    "\n",
    "\n",
    "\n",
    "# END Activity 2.\n",
    "If you're done early, take a break."
   ]
  }
 ],
 "metadata": {
  "kernelspec": {
   "display_name": "Python 3",
   "language": "python",
   "name": "python3"
  },
  "language_info": {
   "codemirror_mode": {
    "name": "ipython",
    "version": 3
   },
   "file_extension": ".py",
   "mimetype": "text/x-python",
   "name": "python",
   "nbconvert_exporter": "python",
   "pygments_lexer": "ipython3",
   "version": "3.10.13"
  }
 },
 "nbformat": 4,
 "nbformat_minor": 2
}
